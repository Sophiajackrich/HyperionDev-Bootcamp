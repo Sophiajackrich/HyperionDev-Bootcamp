{
 "cells": [
  {
   "cell_type": "markdown",
   "metadata": {},
   "source": [
    "# Challenge on combining dictionary, list, and loops"
   ]
  },
  {
   "cell_type": "code",
   "execution_count": 1,
   "metadata": {},
   "outputs": [
    {
     "name": "stdout",
     "output_type": "stream",
     "text": [
      "[('a', 10), ('b', 1), ('c', 2), ('d', 2), ('e', 2), ('f', 2), ('h', 4), ('i', 6), ('m', 2), ('n', 7), ('o', 9), ('r', 2), ('t', 10), ('u', 5), ('v', 2), ('w', 2), ('y', 2)]\n"
     ]
    }
   ],
   "source": [
    "# creating my string variable\n",
    "char = (\"You can have data without information, but you cannot have information without data.\")\n",
    "char = char.lower()# change to lowercase\n",
    "\n",
    "#declaring a list containing all the alphabets\n",
    "chars = ['a','b', 'c', 'd', 'e', 'f', 'g', 'h',\n",
    "            'i', 'j', 'k', 'l', 'm', 'n', 'o', 'p', 'q', \n",
    "            'r', 's', 't', 'u', 'v', 'w', 'x', 'y','z']\n",
    "\n",
    "#looping to form a dict. with elements in the álphabet list above and assign 0 to all of them initially\n",
    "dct = {i:0 for i in chars}\n",
    "for letter in char: # loop through all my char string\n",
    "    if letter in chars: # if any letter in my char is found inside my chars,\n",
    "        dct[letter] = dct[letter] + 1 # then increment the old value of letter in chars to 0 +1=1\n",
    "                                      # nexttime it encounters same letter in a diff position, increment 1 to old letter/value which is 1, \n",
    "    else:\n",
    "        dct[letter] = 0 # else if its not in chars, let it remain zero\n",
    "# creating a new dictionary out of old dictionary\n",
    "new_dct = dct.copy()\n",
    "for i in dct: # loop through old dictionary and\n",
    "    if dct[i] == 0: # perform; anywhere value in dct is zero,\n",
    "        del new_dct[i] # del the particular pair that is zero from new dictionary\n",
    "new_list = list(new_dct.items())\n",
    "\n",
    "print(new_list) # print new dictionary"
   ]
  },
  {
   "cell_type": "code",
   "execution_count": null,
   "metadata": {},
   "outputs": [],
   "source": []
  }
 ],
 "metadata": {
  "kernelspec": {
   "display_name": "Python 3",
   "language": "python",
   "name": "python3"
  },
  "language_info": {
   "codemirror_mode": {
    "name": "ipython",
    "version": 3
   },
   "file_extension": ".py",
   "mimetype": "text/x-python",
   "name": "python",
   "nbconvert_exporter": "python",
   "pygments_lexer": "ipython3",
   "version": "3.7.3"
  }
 },
 "nbformat": 4,
 "nbformat_minor": 4
}
